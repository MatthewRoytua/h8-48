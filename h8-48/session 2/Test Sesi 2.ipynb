{
 "cells": [
  {
   "cell_type": "code",
   "execution_count": 6,
   "metadata": {},
   "outputs": [
    {
     "name": "stdout",
     "output_type": "stream",
     "text": [
      "kekecilan\n"
     ]
    }
   ],
   "source": [
    "if 2 < 3:\n",
    "    print('kekecilan')"
   ]
  },
  {
   "cell_type": "code",
   "execution_count": 8,
   "metadata": {},
   "outputs": [
    {
     "name": "stdout",
     "output_type": "stream",
     "text": [
      "kegedan\n"
     ]
    }
   ],
   "source": [
    "if 3 > 2:\n",
    "    print('kegedean')"
   ]
  },
  {
   "cell_type": "code",
   "execution_count": 10,
   "metadata": {},
   "outputs": [
    {
     "name": "stdout",
     "output_type": "stream",
     "text": [
      "kagak sama\n"
     ]
    }
   ],
   "source": [
    "if 3 != 2:\n",
    "    print('kagak sama')"
   ]
  },
  {
   "cell_type": "code",
   "execution_count": 12,
   "metadata": {},
   "outputs": [
    {
     "name": "stdout",
     "output_type": "stream",
     "text": [
      "Hi Matt!\n"
     ]
    }
   ],
   "source": [
    "if 'Matt' in 'Matthew':\n",
    "    print('Hi Matt!')\n"
   ]
  },
  {
   "cell_type": "code",
   "execution_count": 20,
   "metadata": {},
   "outputs": [
    {
     "name": "stdout",
     "output_type": "stream",
     "text": [
      "I love you\n"
     ]
    }
   ],
   "source": [
    "if 'Ris' in 'Matthew':\n",
    "    print ('Hi!')\n",
    "    print ('Woi!')\n",
    "    print ('Hahahaha')\n",
    "print ('I love you')"
   ]
  },
  {
   "cell_type": "code",
   "execution_count": 38,
   "metadata": {},
   "outputs": [
    {
     "name": "stdout",
     "output_type": "stream",
     "text": [
      "sama deng\n",
      "kegedean\n",
      "itu gak sama\n",
      "Yoeh\n",
      "CAPEK\n",
      "udahan\n"
     ]
    }
   ],
   "source": [
    "if 3 != 3:\n",
    "    print (\"it's inequal\")\n",
    "    print (\"itu kagak sama\")\n",
    "print ('sama deng')\n",
    "\n",
    "if 4 > 3:\n",
    "    print ('kegedean')\n",
    "print('itu gak sama')\n",
    "    \n",
    "if 'Matt' in 'Matthew':\n",
    "    print ('Yoeh')\n",
    "        \n",
    "if 'gua' in 'kita':\n",
    "    print('ada')\n",
    "    print('kagak ada')\n",
    "print('CAPEK')\n",
    "print('udahan')"
   ]
  },
  {
   "cell_type": "code",
   "execution_count": 44,
   "metadata": {},
   "outputs": [
    {
     "name": "stdout",
     "output_type": "stream",
     "text": [
      "more expensive\n"
     ]
    }
   ],
   "source": [
    "harga_buku = 20000000000000000\n",
    "uang = 2222222\n",
    "harga_baju =11111\n",
    "\n",
    "if uang > harga_buku:\n",
    "    print('no money')\n",
    "elif harga_baju < harga_buku:\n",
    "    print('more expensive')\n",
    "else:\n",
    "    print ('beli baju aja lah')"
   ]
  },
  {
   "cell_type": "code",
   "execution_count": 45,
   "metadata": {},
   "outputs": [
    {
     "name": "stdout",
     "output_type": "stream",
     "text": [
      "no money\n"
     ]
    }
   ],
   "source": [
    "harga_buku = 20000000000000000\n",
    "uang = 2222222\n",
    "harga_baju =11111\n",
    "\n",
    "if uang < harga_buku:\n",
    "    print('no money')\n",
    "elif harga_baju < harga_buku:\n",
    "    print('more expensive')\n",
    "else:\n",
    "    print ('beli baju aja lah')"
   ]
  },
  {
   "cell_type": "code",
   "execution_count": 46,
   "metadata": {},
   "outputs": [
    {
     "name": "stdout",
     "output_type": "stream",
     "text": [
      "beli baju aja lah\n"
     ]
    }
   ],
   "source": [
    "harga_buku = 20000000000000000\n",
    "uang = 2222222\n",
    "harga_baju =11111\n",
    "\n",
    "if uang > harga_buku:\n",
    "    print('no money')\n",
    "elif harga_baju > harga_buku:\n",
    "    print('more expensive')\n",
    "else:\n",
    "    print ('beli baju aja lah')"
   ]
  },
  {
   "cell_type": "code",
   "execution_count": 49,
   "metadata": {},
   "outputs": [
    {
     "name": "stdout",
     "output_type": "stream",
     "text": [
      "beli baju aja lah\n"
     ]
    }
   ],
   "source": [
    "harga_buku = 20000000000000000\n",
    "uang = 2222222\n",
    "harga_baju =11111\n",
    "\n",
    "if uang > harga_buku:\n",
    "    print('no money')\n",
    "elif harga_baju > harga_buku:\n",
    "    print('more expensive')\n",
    "else:\n",
    "    print ('beli baju aja lah')"
   ]
  },
  {
   "cell_type": "code",
   "execution_count": 50,
   "metadata": {},
   "outputs": [
    {
     "name": "stdout",
     "output_type": "stream",
     "text": [
      "gak\n",
      "sama\n",
      "bro\n"
     ]
    }
   ],
   "source": [
    "if 1 != 2: print('gak'); print('sama'); print('bro')"
   ]
  },
  {
   "cell_type": "code",
   "execution_count": 53,
   "metadata": {},
   "outputs": [
    {
     "name": "stdout",
     "output_type": "stream",
     "text": [
      "nah\n",
      "ini\n",
      "bener\n"
     ]
    }
   ],
   "source": [
    "x = 7\n",
    "\n",
    "if x==5: print('au'); print('ah'); print('gelap')\n",
    "elif x==3: print('au'); print('ah'); print('terang')\n",
    "elif x==7: print('nah'); print('ini'); print('bener')"
   ]
  },
  {
   "cell_type": "code",
   "execution_count": 54,
   "metadata": {},
   "outputs": [
    {
     "name": "stdout",
     "output_type": "stream",
     "text": [
      "nah\n",
      "ini\n",
      "bener\n"
     ]
    }
   ],
   "source": [
    "x = 7\n",
    "\n",
    "if x==5: print('au'); print('ah'); print('gelap')\n",
    "elif x==3: print('au'); print('ah'); print('terang')\n",
    "else: print('nah'); print('ini'); print('bener')"
   ]
  },
  {
   "cell_type": "code",
   "execution_count": 55,
   "metadata": {},
   "outputs": [
    {
     "name": "stdout",
     "output_type": "stream",
     "text": [
      "nah\n",
      "ini\n",
      "bener\n"
     ]
    }
   ],
   "source": [
    "x = 7\n",
    "\n",
    "if x==5: \n",
    "    print('au')\n",
    "    print('ah')\n",
    "    print('gelap')\n",
    "elif x==3: \n",
    "    print('au')\n",
    "    print('ah')\n",
    "    print('terang')\n",
    "else:\n",
    "    print('nah')\n",
    "    print('ini')\n",
    "    print('bener')"
   ]
  },
  {
   "cell_type": "code",
   "execution_count": 56,
   "metadata": {},
   "outputs": [
    {
     "name": "stdout",
     "output_type": "stream",
     "text": [
      "ayok maen bola\n"
     ]
    }
   ],
   "source": [
    "banjir = False\n",
    "print ('ayok maen bola' if not banjir else 'nonton')"
   ]
  },
  {
   "cell_type": "code",
   "execution_count": 57,
   "metadata": {},
   "outputs": [
    {
     "name": "stdout",
     "output_type": "stream",
     "text": [
      "nonton\n"
     ]
    }
   ],
   "source": [
    "banjir = False\n",
    "print ('ayok maen bola' if  banjir else 'nonton')"
   ]
  },
  {
   "cell_type": "code",
   "execution_count": 35,
   "metadata": {},
   "outputs": [
    {
     "name": "stdout",
     "output_type": "stream",
     "text": [
      "adult\n"
     ]
    }
   ],
   "source": [
    "age = 30\n",
    "umur = 'muda' if age < 21 else 'adult'\n",
    "\n",
    "print (umur)"
   ]
  },
  {
   "cell_type": "code",
   "execution_count": 65,
   "metadata": {},
   "outputs": [
    {
     "data": {
      "text/plain": [
       "'kadit'"
      ]
     },
     "execution_count": 65,
     "metadata": {},
     "output_type": "execute_result"
    }
   ],
   "source": [
    "'yoi' if ('Matt' in [1,2,3]) else ('kadit')"
   ]
  },
  {
   "cell_type": "code",
   "execution_count": 67,
   "metadata": {},
   "outputs": [
    {
     "name": "stdout",
     "output_type": "stream",
     "text": [
      "yuk\n"
     ]
    }
   ],
   "source": [
    "if True:\n",
    "    pass\n",
    "print ('yuk')"
   ]
  },
  {
   "cell_type": "code",
   "execution_count": 92,
   "metadata": {},
   "outputs": [
    {
     "name": "stdout",
     "output_type": "stream",
     "text": [
      "19\n",
      "18\n",
      "17\n",
      "16\n",
      "15\n",
      "14\n",
      "13\n",
      "12\n",
      "11\n",
      "10\n",
      "9\n",
      "8\n",
      "7\n",
      "6\n",
      "5\n",
      "4\n",
      "3\n",
      "2\n",
      "1\n",
      "0\n"
     ]
    }
   ],
   "source": [
    "n = 20\n",
    "while n > 0:\n",
    "    n -=1\n",
    "    print(n)\n",
    "    n > -1"
   ]
  },
  {
   "cell_type": "code",
   "execution_count": 97,
   "metadata": {},
   "outputs": [
    {
     "name": "stdout",
     "output_type": "stream",
     "text": [
      "16\n",
      "17\n",
      "18\n",
      "19\n",
      "20\n",
      "21\n",
      "22\n",
      "23\n",
      "24\n",
      "25\n",
      "26\n",
      "27\n",
      "28\n",
      "29\n",
      "30\n",
      "31\n",
      "32\n",
      "33\n",
      "34\n",
      "35\n"
     ]
    }
   ],
   "source": [
    "l = 15\n",
    "while l<35:\n",
    "    l =l+ 1\n",
    "    print(l)\n",
    "    l > -1\n",
    "    "
   ]
  },
  {
   "cell_type": "code",
   "execution_count": 2,
   "metadata": {},
   "outputs": [
    {
     "name": "stdout",
     "output_type": "stream",
     "text": [
      "foo\n"
     ]
    }
   ],
   "source": [
    "if True:\n",
    "    pass\n",
    "print('foo')"
   ]
  },
  {
   "cell_type": "code",
   "execution_count": 3,
   "metadata": {},
   "outputs": [
    {
     "name": "stdout",
     "output_type": "stream",
     "text": [
      "1\n",
      "2\n",
      "3\n",
      "4\n",
      "5\n",
      "6\n",
      "7\n",
      "8\n"
     ]
    }
   ],
   "source": [
    "for (a,b) in [(1,2),(3,4),(5,6),(7,8)]:\n",
    "    print(a)\n",
    "    print(b)"
   ]
  },
  {
   "cell_type": "code",
   "execution_count": 9,
   "metadata": {},
   "outputs": [
    {
     "name": "stdout",
     "output_type": "stream",
     "text": [
      "k1\n",
      "1\n",
      "k2\n",
      "2\n",
      "k3\n",
      "3\n"
     ]
    }
   ],
   "source": [
    "zzz = {'k1':1,'k2':2,'k3':3}\n",
    "for (a,b) in zzz.items():\n",
    "    print(a)\n",
    "    print(b)"
   ]
  },
  {
   "cell_type": "code",
   "execution_count": 17,
   "metadata": {},
   "outputs": [
    {
     "name": "stdout",
     "output_type": "stream",
     "text": [
      "Now this is 0\n",
      "Now this is 1\n",
      "Now this is 2\n",
      "Now this is 3\n",
      "Now this is 4\n",
      "Now this is 5\n",
      "Now this is 6\n",
      "Now this is 7\n",
      "Now this is 8\n",
      "Now this is 9\n"
     ]
    }
   ],
   "source": [
    "x = 0\n",
    "while x < 10:\n",
    "    print(f'Now this is {x}')\n",
    "    x = x + 1"
   ]
  },
  {
   "cell_type": "code",
   "execution_count": 3,
   "metadata": {},
   "outputs": [
    {
     "name": "stdout",
     "output_type": "stream",
     "text": [
      "t\n",
      "h\n",
      "i\n",
      "s\n",
      " \n",
      "i\n",
      "s\n",
      " \n",
      " \n",
      "l\n",
      "e\n",
      "t\n",
      "t\n",
      "e\n",
      "r\n"
     ]
    }
   ],
   "source": [
    "for z in 'this is a letter':\n",
    "    if z == 'a':\n",
    "        continue\n",
    "    print(z)"
   ]
  },
  {
   "cell_type": "code",
   "execution_count": 7,
   "metadata": {},
   "outputs": [
    {
     "name": "stdout",
     "output_type": "stream",
     "text": [
      "0\n",
      "1\n",
      "2\n",
      "3\n"
     ]
    }
   ],
   "source": [
    "x = 0\n",
    "while x < 5:\n",
    "    if x == 4:\n",
    "        break\n",
    "    print(x)\n",
    "    x += 1\n",
    "    "
   ]
  },
  {
   "cell_type": "code",
   "execution_count": 8,
   "metadata": {},
   "outputs": [
    {
     "name": "stdout",
     "output_type": "stream",
     "text": [
      "0\n",
      "1\n",
      "2\n",
      "3\n"
     ]
    }
   ],
   "source": [
    "x = 0\n",
    "while x < 4:\n",
    "    print(x)\n",
    "    x += 1\n",
    "    "
   ]
  },
  {
   "cell_type": "code",
   "execution_count": 9,
   "metadata": {},
   "outputs": [
    {
     "data": {
      "text/plain": [
       "[0, 1, 2, 3, 4, 5, 6, 7, 8, 9]"
      ]
     },
     "execution_count": 9,
     "metadata": {},
     "output_type": "execute_result"
    }
   ],
   "source": [
    "list(range(0,10))"
   ]
  },
  {
   "cell_type": "code",
   "execution_count": 25,
   "metadata": {},
   "outputs": [
    {
     "name": "stdout",
     "output_type": "stream",
     "text": [
      "Ini indeks 0 untuk huruf a\n",
      "Ini indeks 1 untuk huruf b\n",
      "Ini indeks 2 untuk huruf c\n",
      "Ini indeks 3 untuk huruf d\n",
      "Ini indeks 4 untuk huruf e\n"
     ]
    }
   ],
   "source": [
    "z = 0\n",
    "y = ('a','b','c','d','e')\n",
    "\n",
    "for x in y:\n",
    "    print('Ini indeks {} untuk huruf {}'.format(z,x))\n",
    "    z += 1"
   ]
  },
  {
   "cell_type": "code",
   "execution_count": 23,
   "metadata": {},
   "outputs": [
    {
     "name": "stdout",
     "output_type": "stream",
     "text": [
      "a\n",
      "b\n",
      "c\n",
      "d\n",
      "e\n"
     ]
    }
   ],
   "source": [
    "for x in y:\n",
    "    print(x)"
   ]
  },
  {
   "cell_type": "code",
   "execution_count": 2,
   "metadata": {},
   "outputs": [
    {
     "name": "stdout",
     "output_type": "stream",
     "text": [
      "ini angka 0\n",
      "ini angka 1\n",
      "ini angka 2\n",
      "ini angka 3\n",
      "ini angka 4\n",
      "ini angka 5\n",
      "ini angka 6\n",
      "ini angka 7\n",
      "ini angka 8\n",
      "ini angka 9\n"
     ]
    }
   ],
   "source": [
    "x = 0\n",
    "while x < 10:\n",
    "    print(f'ini angka {x}')\n",
    "    x += 1"
   ]
  },
  {
   "cell_type": "code",
   "execution_count": 6,
   "metadata": {},
   "outputs": [
    {
     "name": "stdout",
     "output_type": "stream",
     "text": [
      "[0, 1, 2, 3, 4]\n"
     ]
    }
   ],
   "source": [
    "x = [0,1,2,3,4]\n",
    "for y in x:\n",
    "    pass\n",
    "print (x)"
   ]
  },
  {
   "cell_type": "code",
   "execution_count": 13,
   "metadata": {},
   "outputs": [
    {
     "name": "stdout",
     "output_type": "stream",
     "text": [
      "z\n",
      "c\n",
      "v\n",
      "b\n",
      "n\n",
      "m\n"
     ]
    }
   ],
   "source": [
    "for x in 'zxcvbnm':\n",
    "    if x == 'x':\n",
    "        continue\n",
    "    print (x)"
   ]
  },
  {
   "cell_type": "code",
   "execution_count": 15,
   "metadata": {},
   "outputs": [
    {
     "name": "stdout",
     "output_type": "stream",
     "text": [
      "Ini adalah 0\n",
      "Ini adalah 1\n",
      "Ini adalah 2\n",
      "Ini adalah 3\n",
      "Ini adalah 4\n",
      "Ini adalah 5\n",
      "Ini adalah 6\n",
      "Ini adalah 7\n",
      "Ini adalah 8\n",
      "Ini adalah 9\n",
      "Ini adalah 10\n"
     ]
    }
   ],
   "source": [
    "x = 0\n",
    "while x < 11:\n",
    "    print(f'Ini adalah {x}')\n",
    "    x += 1"
   ]
  },
  {
   "cell_type": "code",
   "execution_count": 21,
   "metadata": {},
   "outputs": [
    {
     "name": "stdout",
     "output_type": "stream",
     "text": [
      "Ini adalah 0\n",
      "Ini adalah 1\n",
      "Ini adalah 2\n",
      "Ini adalah 3\n",
      "Ini adalah 4\n",
      "Ini adalah 5\n",
      "Ini adalah 6\n",
      "Ini adalah 7\n",
      "Ini adalah 8\n",
      "Ini adalah 9\n",
      "Ini adalah 10\n"
     ]
    }
   ],
   "source": [
    "x = 0\n",
    "while x < 1000:\n",
    "    print(f'Ini adalah {x}')\n",
    "    x += 1\n",
    "    if x == 11:\n",
    "        break"
   ]
  },
  {
   "cell_type": "code",
   "execution_count": 22,
   "metadata": {},
   "outputs": [
    {
     "name": "stdout",
     "output_type": "stream",
     "text": [
      "2\n",
      "4\n",
      "6\n",
      "8\n"
     ]
    }
   ],
   "source": [
    "for num in range(2,10,2):\n",
    "    print (num)"
   ]
  },
  {
   "cell_type": "code",
   "execution_count": 23,
   "metadata": {},
   "outputs": [
    {
     "data": {
      "text/plain": [
       "[2, 4, 6, 8]"
      ]
     },
     "execution_count": 23,
     "metadata": {},
     "output_type": "execute_result"
    }
   ],
   "source": [
    "list (range(2,10,2))"
   ]
  },
  {
   "cell_type": "code",
   "execution_count": 25,
   "metadata": {},
   "outputs": [
    {
     "name": "stdout",
     "output_type": "stream",
     "text": [
      "Untuk indeks 0, berisi a\n",
      "Untuk indeks 1, berisi s\n",
      "Untuk indeks 2, berisi d\n",
      "Untuk indeks 3, berisi f\n",
      "Untuk indeks 4, berisi g\n",
      "Untuk indeks 5, berisi h\n",
      "Untuk indeks 6, berisi j\n",
      "Untuk indeks 7, berisi k\n",
      "Untuk indeks 8, berisi l\n"
     ]
    }
   ],
   "source": [
    "no_indeks = 0\n",
    "for x in 'asdfghjkl':\n",
    "    print(f'Untuk indeks {no_indeks}, berisi {x}')\n",
    "    no_indeks += 1"
   ]
  },
  {
   "cell_type": "code",
   "execution_count": 27,
   "metadata": {},
   "outputs": [
    {
     "name": "stdout",
     "output_type": "stream",
     "text": [
      "a\n",
      "s\n",
      "d\n",
      "f\n",
      "g\n",
      "h\n",
      "j\n",
      "k\n",
      "l\n"
     ]
    }
   ],
   "source": [
    "no_indeks = 0\n",
    "for x in 'asdfghjkl':\n",
    "    print ('asdfghjkl'[no_indeks])\n",
    "    no_indeks += 1"
   ]
  },
  {
   "cell_type": "code",
   "execution_count": 29,
   "metadata": {},
   "outputs": [
    {
     "name": "stdout",
     "output_type": "stream",
     "text": [
      "(0, 'a')\n",
      "(1, 'b')\n",
      "(2, 'c')\n",
      "(3, 'd')\n",
      "(4, 'e')\n",
      "(5, 'f')\n",
      "(6, 'g')\n",
      "(7, 'h')\n",
      "(8, 'j')\n",
      "(9, 'k')\n",
      "(10, 'l')\n"
     ]
    }
   ],
   "source": [
    "for item in enumerate('abcdefghjkl'):\n",
    "    print (item)"
   ]
  },
  {
   "cell_type": "code",
   "execution_count": 32,
   "metadata": {},
   "outputs": [
    {
     "name": "stdout",
     "output_type": "stream",
     "text": [
      "0\n",
      "a\n",
      "\n",
      "\n",
      "1\n",
      "b\n",
      "\n",
      "\n",
      "2\n",
      "c\n",
      "\n",
      "\n",
      "3\n",
      "d\n",
      "\n",
      "\n",
      "4\n",
      "e\n",
      "\n",
      "\n",
      "5\n",
      "f\n",
      "\n",
      "\n",
      "6\n",
      "g\n",
      "\n",
      "\n",
      "7\n",
      "h\n",
      "\n",
      "\n",
      "8\n",
      "j\n",
      "\n",
      "\n",
      "9\n",
      "k\n",
      "\n",
      "\n",
      "10\n",
      "l\n",
      "\n",
      "\n"
     ]
    }
   ],
   "source": [
    "for index,letter in enumerate('abcdefghjkl'):\n",
    "    print (index)\n",
    "    print (letter)\n",
    "    print ('\\n')"
   ]
  },
  {
   "cell_type": "code",
   "execution_count": 33,
   "metadata": {},
   "outputs": [
    {
     "name": "stdout",
     "output_type": "stream",
     "text": [
      "(1, 4)\n",
      "(2, 5)\n",
      "(3, 6)\n"
     ]
    }
   ],
   "source": [
    "my_list_1 = [1,2,3]\n",
    "my_list_2 = [4,5,6]\n",
    "\n",
    "for x in zip(my_list_1,my_list_2):\n",
    "    print(x)"
   ]
  },
  {
   "cell_type": "code",
   "execution_count": 34,
   "metadata": {},
   "outputs": [
    {
     "name": "stdout",
     "output_type": "stream",
     "text": [
      "[(1, 4), (2, 5), (3, 6)]\n"
     ]
    }
   ],
   "source": [
    "print (list(zip(my_list_1,my_list_2)))"
   ]
  },
  {
   "cell_type": "code",
   "execution_count": 44,
   "metadata": {},
   "outputs": [
    {
     "name": "stdout",
     "output_type": "stream",
     "text": [
      "[1, 4, 5, 3, 2]\n"
     ]
    }
   ],
   "source": [
    "from random import shuffle\n",
    "my_list = [1,2,3,4,5]\n",
    "shuffle(my_list)\n",
    "print(my_list)"
   ]
  },
  {
   "cell_type": "code",
   "execution_count": 45,
   "metadata": {},
   "outputs": [
    {
     "name": "stdout",
     "output_type": "stream",
     "text": [
      "[1, 4, 5, 3, 2]\n"
     ]
    }
   ],
   "source": [
    "print(my_list)"
   ]
  },
  {
   "cell_type": "code",
   "execution_count": 53,
   "metadata": {},
   "outputs": [
    {
     "name": "stdout",
     "output_type": "stream",
     "text": [
      "6\n"
     ]
    }
   ],
   "source": [
    "from random import randint\n",
    "num = randint(0,10)\n",
    "print (num)"
   ]
  },
  {
   "cell_type": "code",
   "execution_count": 5,
   "metadata": {},
   "outputs": [],
   "source": [
    "# NUMBER 1"
   ]
  },
  {
   "cell_type": "code",
   "execution_count": 9,
   "metadata": {},
   "outputs": [
    {
     "name": "stdout",
     "output_type": "stream",
     "text": [
      "INI ADALAH ANGKA 3\n",
      "DAN INI ADALAH ANGKA GANJIL\n"
     ]
    }
   ],
   "source": [
    "result = int(input('INI ADALAH ANGKA '))\n",
    "if result % 2 == 0:\n",
    "    print('DAN INI ADALAH ANGKA GENAP')\n",
    "else:\n",
    "    print('DAN INI ADALAH ANGKA GANJIL')"
   ]
  },
  {
   "cell_type": "code",
   "execution_count": 10,
   "metadata": {},
   "outputs": [],
   "source": [
    "# NUMBER 2"
   ]
  },
  {
   "cell_type": "code",
   "execution_count": 12,
   "metadata": {},
   "outputs": [
    {
     "name": "stdout",
     "output_type": "stream",
     "text": [
      "1\n",
      "2\n",
      "4\n",
      "5\n",
      "10\n",
      "20\n"
     ]
    }
   ],
   "source": [
    "for y in range(1,21):\n",
    "    if 20%y == 0:\n",
    "        print (y)"
   ]
  },
  {
   "cell_type": "code",
   "execution_count": 13,
   "metadata": {},
   "outputs": [],
   "source": [
    "# NUMBER 3"
   ]
  },
  {
   "cell_type": "code",
   "execution_count": 14,
   "metadata": {},
   "outputs": [
    {
     "name": "stdout",
     "output_type": "stream",
     "text": [
      "how?89\n",
      "A-\n"
     ]
    }
   ],
   "source": [
    "num = int (input('how?'))\n",
    "if num < 100 and num >= 95:\n",
    "    print('A')\n",
    "elif num < 90 and num >= 85:\n",
    "    print ('A-')"
   ]
  },
  {
   "cell_type": "code",
   "execution_count": 15,
   "metadata": {},
   "outputs": [],
   "source": [
    "# NUMBER 4"
   ]
  },
  {
   "cell_type": "code",
   "execution_count": 16,
   "metadata": {},
   "outputs": [
    {
     "name": "stdout",
     "output_type": "stream",
     "text": [
      "hayo tebak!1\n",
      "too low\n",
      "hayo tebak!2\n",
      "too low\n",
      "hayo tebak!3\n",
      "too low\n",
      "hayo tebak!4\n",
      "too low\n",
      "hayo tebak!5\n",
      "got it\n"
     ]
    }
   ],
   "source": [
    "from random import randint\n",
    "tebakan = randint (1,9)\n",
    "\n",
    "muter = True\n",
    "while (muter):\n",
    "    guess_num = int (input('hayo tebak!'))\n",
    "    if (guess_num < tebakan):\n",
    "        print('too low')\n",
    "    elif (guess_num > tebakan):\n",
    "        print('too high')\n",
    "    else:\n",
    "        print('got it')\n",
    "        muter = False"
   ]
  },
  {
   "cell_type": "markdown",
   "metadata": {},
   "source": [
    " "
   ]
  }
 ],
 "metadata": {
  "kernelspec": {
   "display_name": "Python 3",
   "language": "python",
   "name": "python3"
  }
 },
 "nbformat": 4,
 "nbformat_minor": 4
}
