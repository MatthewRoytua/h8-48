{
 "cells": [
  {
   "cell_type": "markdown",
   "metadata": {},
   "source": [
    "<img src = \"https://global-uploads.webflow.com/5f0d53c042a9ed6288de7f8d/5f6337ae2cfaa10946ceeb06_Hacktiv8%20logo%20horizontal%2001%20black-p-500.png\" width = 400>\n",
    "<h1 align=center><font size = 5>Hacktiv8 PTP Introduction to Data Science Projects 2 // Statistical Treatment for Retail Datasets</font></h1>"
   ]
  },
  {
   "cell_type": "code",
   "execution_count": 1,
   "metadata": {},
   "outputs": [],
   "source": [
    "import math\n",
    "import statistics\n",
    "import numpy as np\n",
    "import scipy.stats\n",
    "import pandas as pd\n",
    "import seaborn as sns\n",
    "import random\n",
    "import warnings\n",
    "import scipy.stats as stats\n",
    "import matplotlib.pyplot as plt\n",
    "import statsmodels.api as sm\n",
    "import scipy.stats.distributions as dist\n",
    "%matplotlib inline"
   ]
  },
  {
   "cell_type": "code",
   "execution_count": 9,
   "metadata": {},
   "outputs": [],
   "source": [
    "df = pd.read_csv('nyc-rolling-sales.csv')"
   ]
  },
  {
   "cell_type": "code",
   "execution_count": 10,
   "metadata": {},
   "outputs": [
    {
     "data": {
      "text/html": [
       "<div>\n",
       "<style scoped>\n",
       "    .dataframe tbody tr th:only-of-type {\n",
       "        vertical-align: middle;\n",
       "    }\n",
       "\n",
       "    .dataframe tbody tr th {\n",
       "        vertical-align: top;\n",
       "    }\n",
       "\n",
       "    .dataframe thead th {\n",
       "        text-align: right;\n",
       "    }\n",
       "</style>\n",
       "<table border=\"1\" class=\"dataframe\">\n",
       "  <thead>\n",
       "    <tr style=\"text-align: right;\">\n",
       "      <th></th>\n",
       "      <th>Unnamed: 0</th>\n",
       "      <th>BOROUGH</th>\n",
       "      <th>NEIGHBORHOOD</th>\n",
       "      <th>BUILDING CLASS CATEGORY</th>\n",
       "      <th>TAX CLASS AT PRESENT</th>\n",
       "      <th>BLOCK</th>\n",
       "      <th>LOT</th>\n",
       "      <th>EASE-MENT</th>\n",
       "      <th>BUILDING CLASS AT PRESENT</th>\n",
       "      <th>ADDRESS</th>\n",
       "      <th>...</th>\n",
       "      <th>RESIDENTIAL UNITS</th>\n",
       "      <th>COMMERCIAL UNITS</th>\n",
       "      <th>TOTAL UNITS</th>\n",
       "      <th>LAND SQUARE FEET</th>\n",
       "      <th>GROSS SQUARE FEET</th>\n",
       "      <th>YEAR BUILT</th>\n",
       "      <th>TAX CLASS AT TIME OF SALE</th>\n",
       "      <th>BUILDING CLASS AT TIME OF SALE</th>\n",
       "      <th>SALE PRICE</th>\n",
       "      <th>SALE DATE</th>\n",
       "    </tr>\n",
       "  </thead>\n",
       "  <tbody>\n",
       "    <tr>\n",
       "      <th>0</th>\n",
       "      <td>4</td>\n",
       "      <td>1</td>\n",
       "      <td>ALPHABET CITY</td>\n",
       "      <td>07 RENTALS - WALKUP APARTMENTS</td>\n",
       "      <td>2A</td>\n",
       "      <td>392</td>\n",
       "      <td>6</td>\n",
       "      <td></td>\n",
       "      <td>C2</td>\n",
       "      <td>153 AVENUE B</td>\n",
       "      <td>...</td>\n",
       "      <td>5</td>\n",
       "      <td>0</td>\n",
       "      <td>5</td>\n",
       "      <td>1633</td>\n",
       "      <td>6440</td>\n",
       "      <td>1900</td>\n",
       "      <td>2</td>\n",
       "      <td>C2</td>\n",
       "      <td>6625000</td>\n",
       "      <td>2017-07-19 00:00:00</td>\n",
       "    </tr>\n",
       "    <tr>\n",
       "      <th>1</th>\n",
       "      <td>5</td>\n",
       "      <td>1</td>\n",
       "      <td>ALPHABET CITY</td>\n",
       "      <td>07 RENTALS - WALKUP APARTMENTS</td>\n",
       "      <td>2</td>\n",
       "      <td>399</td>\n",
       "      <td>26</td>\n",
       "      <td></td>\n",
       "      <td>C7</td>\n",
       "      <td>234 EAST 4TH   STREET</td>\n",
       "      <td>...</td>\n",
       "      <td>28</td>\n",
       "      <td>3</td>\n",
       "      <td>31</td>\n",
       "      <td>4616</td>\n",
       "      <td>18690</td>\n",
       "      <td>1900</td>\n",
       "      <td>2</td>\n",
       "      <td>C7</td>\n",
       "      <td>-</td>\n",
       "      <td>2016-12-14 00:00:00</td>\n",
       "    </tr>\n",
       "    <tr>\n",
       "      <th>2</th>\n",
       "      <td>6</td>\n",
       "      <td>1</td>\n",
       "      <td>ALPHABET CITY</td>\n",
       "      <td>07 RENTALS - WALKUP APARTMENTS</td>\n",
       "      <td>2</td>\n",
       "      <td>399</td>\n",
       "      <td>39</td>\n",
       "      <td></td>\n",
       "      <td>C7</td>\n",
       "      <td>197 EAST 3RD   STREET</td>\n",
       "      <td>...</td>\n",
       "      <td>16</td>\n",
       "      <td>1</td>\n",
       "      <td>17</td>\n",
       "      <td>2212</td>\n",
       "      <td>7803</td>\n",
       "      <td>1900</td>\n",
       "      <td>2</td>\n",
       "      <td>C7</td>\n",
       "      <td>-</td>\n",
       "      <td>2016-12-09 00:00:00</td>\n",
       "    </tr>\n",
       "    <tr>\n",
       "      <th>3</th>\n",
       "      <td>7</td>\n",
       "      <td>1</td>\n",
       "      <td>ALPHABET CITY</td>\n",
       "      <td>07 RENTALS - WALKUP APARTMENTS</td>\n",
       "      <td>2B</td>\n",
       "      <td>402</td>\n",
       "      <td>21</td>\n",
       "      <td></td>\n",
       "      <td>C4</td>\n",
       "      <td>154 EAST 7TH STREET</td>\n",
       "      <td>...</td>\n",
       "      <td>10</td>\n",
       "      <td>0</td>\n",
       "      <td>10</td>\n",
       "      <td>2272</td>\n",
       "      <td>6794</td>\n",
       "      <td>1913</td>\n",
       "      <td>2</td>\n",
       "      <td>C4</td>\n",
       "      <td>3936272</td>\n",
       "      <td>2016-09-23 00:00:00</td>\n",
       "    </tr>\n",
       "    <tr>\n",
       "      <th>4</th>\n",
       "      <td>8</td>\n",
       "      <td>1</td>\n",
       "      <td>ALPHABET CITY</td>\n",
       "      <td>07 RENTALS - WALKUP APARTMENTS</td>\n",
       "      <td>2A</td>\n",
       "      <td>404</td>\n",
       "      <td>55</td>\n",
       "      <td></td>\n",
       "      <td>C2</td>\n",
       "      <td>301 EAST 10TH   STREET</td>\n",
       "      <td>...</td>\n",
       "      <td>6</td>\n",
       "      <td>0</td>\n",
       "      <td>6</td>\n",
       "      <td>2369</td>\n",
       "      <td>4615</td>\n",
       "      <td>1900</td>\n",
       "      <td>2</td>\n",
       "      <td>C2</td>\n",
       "      <td>8000000</td>\n",
       "      <td>2016-11-17 00:00:00</td>\n",
       "    </tr>\n",
       "  </tbody>\n",
       "</table>\n",
       "<p>5 rows × 22 columns</p>\n",
       "</div>"
      ],
      "text/plain": [
       "   Unnamed: 0  BOROUGH   NEIGHBORHOOD  \\\n",
       "0           4        1  ALPHABET CITY   \n",
       "1           5        1  ALPHABET CITY   \n",
       "2           6        1  ALPHABET CITY   \n",
       "3           7        1  ALPHABET CITY   \n",
       "4           8        1  ALPHABET CITY   \n",
       "\n",
       "                       BUILDING CLASS CATEGORY TAX CLASS AT PRESENT  BLOCK  \\\n",
       "0  07 RENTALS - WALKUP APARTMENTS                                2A    392   \n",
       "1  07 RENTALS - WALKUP APARTMENTS                                 2    399   \n",
       "2  07 RENTALS - WALKUP APARTMENTS                                 2    399   \n",
       "3  07 RENTALS - WALKUP APARTMENTS                                2B    402   \n",
       "4  07 RENTALS - WALKUP APARTMENTS                                2A    404   \n",
       "\n",
       "   LOT EASE-MENT BUILDING CLASS AT PRESENT                 ADDRESS  ...  \\\n",
       "0    6                                  C2            153 AVENUE B  ...   \n",
       "1   26                                  C7   234 EAST 4TH   STREET  ...   \n",
       "2   39                                  C7   197 EAST 3RD   STREET  ...   \n",
       "3   21                                  C4     154 EAST 7TH STREET  ...   \n",
       "4   55                                  C2  301 EAST 10TH   STREET  ...   \n",
       "\n",
       "  RESIDENTIAL UNITS  COMMERCIAL UNITS  TOTAL UNITS  LAND SQUARE FEET  \\\n",
       "0                 5                 0            5              1633   \n",
       "1                28                 3           31              4616   \n",
       "2                16                 1           17              2212   \n",
       "3                10                 0           10              2272   \n",
       "4                 6                 0            6              2369   \n",
       "\n",
       "   GROSS SQUARE FEET YEAR BUILT TAX CLASS AT TIME OF SALE  \\\n",
       "0               6440       1900                         2   \n",
       "1              18690       1900                         2   \n",
       "2               7803       1900                         2   \n",
       "3               6794       1913                         2   \n",
       "4               4615       1900                         2   \n",
       "\n",
       "   BUILDING CLASS AT TIME OF SALE  SALE PRICE            SALE DATE  \n",
       "0                              C2     6625000  2017-07-19 00:00:00  \n",
       "1                              C7         -    2016-12-14 00:00:00  \n",
       "2                              C7         -    2016-12-09 00:00:00  \n",
       "3                              C4     3936272  2016-09-23 00:00:00  \n",
       "4                              C2     8000000  2016-11-17 00:00:00  \n",
       "\n",
       "[5 rows x 22 columns]"
      ]
     },
     "execution_count": 10,
     "metadata": {},
     "output_type": "execute_result"
    }
   ],
   "source": [
    "df.head()"
   ]
  },
  {
   "cell_type": "code",
   "execution_count": 11,
   "metadata": {
    "scrolled": true
   },
   "outputs": [
    {
     "name": "stdout",
     "output_type": "stream",
     "text": [
      "<class 'pandas.core.frame.DataFrame'>\n",
      "RangeIndex: 84548 entries, 0 to 84547\n",
      "Data columns (total 22 columns):\n",
      " #   Column                          Non-Null Count  Dtype \n",
      "---  ------                          --------------  ----- \n",
      " 0   Unnamed: 0                      84548 non-null  int64 \n",
      " 1   BOROUGH                         84548 non-null  int64 \n",
      " 2   NEIGHBORHOOD                    84548 non-null  object\n",
      " 3   BUILDING CLASS CATEGORY         84548 non-null  object\n",
      " 4   TAX CLASS AT PRESENT            84548 non-null  object\n",
      " 5   BLOCK                           84548 non-null  int64 \n",
      " 6   LOT                             84548 non-null  int64 \n",
      " 7   EASE-MENT                       84548 non-null  object\n",
      " 8   BUILDING CLASS AT PRESENT       84548 non-null  object\n",
      " 9   ADDRESS                         84548 non-null  object\n",
      " 10  APARTMENT NUMBER                84548 non-null  object\n",
      " 11  ZIP CODE                        84548 non-null  int64 \n",
      " 12  RESIDENTIAL UNITS               84548 non-null  int64 \n",
      " 13  COMMERCIAL UNITS                84548 non-null  int64 \n",
      " 14  TOTAL UNITS                     84548 non-null  int64 \n",
      " 15  LAND SQUARE FEET                84548 non-null  object\n",
      " 16  GROSS SQUARE FEET               84548 non-null  object\n",
      " 17  YEAR BUILT                      84548 non-null  int64 \n",
      " 18  TAX CLASS AT TIME OF SALE       84548 non-null  int64 \n",
      " 19  BUILDING CLASS AT TIME OF SALE  84548 non-null  object\n",
      " 20  SALE PRICE                      84548 non-null  object\n",
      " 21  SALE DATE                       84548 non-null  object\n",
      "dtypes: int64(10), object(12)\n",
      "memory usage: 14.2+ MB\n"
     ]
    }
   ],
   "source": [
    "df.info()"
   ]
  },
  {
   "cell_type": "code",
   "execution_count": 16,
   "metadata": {},
   "outputs": [
    {
     "data": {
      "text/plain": [
       "Unnamed: 0                        0\n",
       "BOROUGH                           0\n",
       "NEIGHBORHOOD                      0\n",
       "BUILDING CLASS CATEGORY           0\n",
       "TAX CLASS AT PRESENT              0\n",
       "BLOCK                             0\n",
       "LOT                               0\n",
       "EASE-MENT                         0\n",
       "BUILDING CLASS AT PRESENT         0\n",
       "ADDRESS                           0\n",
       "APARTMENT NUMBER                  0\n",
       "ZIP CODE                          0\n",
       "RESIDENTIAL UNITS                 0\n",
       "COMMERCIAL UNITS                  0\n",
       "TOTAL UNITS                       0\n",
       "LAND SQUARE FEET                  0\n",
       "GROSS SQUARE FEET                 0\n",
       "YEAR BUILT                        0\n",
       "TAX CLASS AT TIME OF SALE         0\n",
       "BUILDING CLASS AT TIME OF SALE    0\n",
       "SALE PRICE                        0\n",
       "SALE DATE                         0\n",
       "dtype: int64"
      ]
     },
     "execution_count": 16,
     "metadata": {},
     "output_type": "execute_result"
    }
   ],
   "source": [
    "# CHECKING MISSING DATA\n",
    "df.isnull().sum()"
   ]
  },
  {
   "cell_type": "code",
   "execution_count": 17,
   "metadata": {},
   "outputs": [],
   "source": [
    "#CONVERT OBJECT-TYPED TO INTERGER\n",
    "df['SALE PRICE'] = pd.to_numeric(df['SALE PRICE'], errors = 'coerce')"
   ]
  },
  {
   "cell_type": "code",
   "execution_count": 18,
   "metadata": {},
   "outputs": [
    {
     "data": {
      "text/plain": [
       "69987"
      ]
     },
     "execution_count": 18,
     "metadata": {},
     "output_type": "execute_result"
    }
   ],
   "source": [
    "df = df[df['SALE PRICE'].notnull()]\n",
    "len(df)"
   ]
  },
  {
   "cell_type": "markdown",
   "metadata": {},
   "source": [
    "Checking Minimun and Maximum point of data to avoid outliers"
   ]
  },
  {
   "cell_type": "code",
   "execution_count": 24,
   "metadata": {},
   "outputs": [
    {
     "data": {
      "text/plain": [
       "2210000000.0"
      ]
     },
     "execution_count": 24,
     "metadata": {},
     "output_type": "execute_result"
    }
   ],
   "source": [
    "df['SALE PRICE'].max()"
   ]
  },
  {
   "cell_type": "code",
   "execution_count": 25,
   "metadata": {},
   "outputs": [
    {
     "data": {
      "text/plain": [
       "0.0"
      ]
     },
     "execution_count": 25,
     "metadata": {},
     "output_type": "execute_result"
    }
   ],
   "source": [
    "df['SALE PRICE'].min()"
   ]
  },
  {
   "cell_type": "code",
   "execution_count": 26,
   "metadata": {},
   "outputs": [],
   "source": [
    "#Setting range of data \n",
    "df = df[(df['SALE PRICE'] > 100000) & (df['SALE PRICE'] < 5000000)]"
   ]
  },
  {
   "cell_type": "code",
   "execution_count": 28,
   "metadata": {},
   "outputs": [
    {
     "data": {
      "text/plain": [
       "4996841.0"
      ]
     },
     "execution_count": 28,
     "metadata": {},
     "output_type": "execute_result"
    }
   ],
   "source": [
    "df['SALE PRICE'].max()"
   ]
  },
  {
   "cell_type": "code",
   "execution_count": 30,
   "metadata": {},
   "outputs": [
    {
     "data": {
      "text/plain": [
       "100335.0"
      ]
     },
     "execution_count": 30,
     "metadata": {},
     "output_type": "execute_result"
    }
   ],
   "source": [
    "df['SALE PRICE'].min()"
   ]
  },
  {
   "cell_type": "markdown",
   "metadata": {},
   "source": [
    "##### Measure of Central Tendency\n",
    "1. Mean"
   ]
  },
  {
   "cell_type": "code",
   "execution_count": 31,
   "metadata": {
    "scrolled": true
   },
   "outputs": [
    {
     "data": {
      "text/plain": [
       "867034.2480194669"
      ]
     },
     "execution_count": 31,
     "metadata": {},
     "output_type": "execute_result"
    }
   ],
   "source": [
    "df['SALE PRICE'].mean()"
   ]
  },
  {
   "cell_type": "markdown",
   "metadata": {},
   "source": [
    "2. Median"
   ]
  },
  {
   "cell_type": "code",
   "execution_count": 32,
   "metadata": {},
   "outputs": [
    {
     "data": {
      "text/plain": [
       "630000.0"
      ]
     },
     "execution_count": 32,
     "metadata": {},
     "output_type": "execute_result"
    }
   ],
   "source": [
    "df['SALE PRICE'].median()"
   ]
  },
  {
   "cell_type": "markdown",
   "metadata": {},
   "source": [
    "3. Mode"
   ]
  },
  {
   "cell_type": "code",
   "execution_count": 33,
   "metadata": {},
   "outputs": [
    {
     "data": {
      "text/plain": [
       "0    450000.0\n",
       "dtype: float64"
      ]
     },
     "execution_count": 33,
     "metadata": {},
     "output_type": "execute_result"
    }
   ],
   "source": [
    "df['SALE PRICE'].mode()"
   ]
  },
  {
   "cell_type": "markdown",
   "metadata": {},
   "source": [
    "##### Measure of Spread\n",
    "1. Range of data"
   ]
  },
  {
   "cell_type": "code",
   "execution_count": 34,
   "metadata": {},
   "outputs": [
    {
     "data": {
      "text/plain": [
       "4896506.0"
      ]
     },
     "execution_count": 34,
     "metadata": {},
     "output_type": "execute_result"
    }
   ],
   "source": [
    "np.ptp(df['SALE PRICE'])"
   ]
  },
  {
   "cell_type": "code",
   "execution_count": 36,
   "metadata": {},
   "outputs": [
    {
     "data": {
      "text/plain": [
       "4896506.0"
      ]
     },
     "execution_count": 36,
     "metadata": {},
     "output_type": "execute_result"
    }
   ],
   "source": [
    "# Manually\n",
    "df['SALE PRICE'].max() - df['SALE PRICE'].min()"
   ]
  },
  {
   "cell_type": "markdown",
   "metadata": {},
   "source": [
    "2. Variance"
   ]
  },
  {
   "cell_type": "code",
   "execution_count": 38,
   "metadata": {},
   "outputs": [
    {
     "data": {
      "text/plain": [
       "601408063100.8433"
      ]
     },
     "execution_count": 38,
     "metadata": {},
     "output_type": "execute_result"
    }
   ],
   "source": [
    "var_ = statistics.variance(df['SALE PRICE'])\n",
    "var_"
   ]
  },
  {
   "cell_type": "markdown",
   "metadata": {},
   "source": [
    "3. Stardard Deviation"
   ]
  },
  {
   "cell_type": "code",
   "execution_count": 42,
   "metadata": {},
   "outputs": [
    {
     "data": {
      "text/plain": [
       "775505.0374438862"
      ]
     },
     "execution_count": 42,
     "metadata": {},
     "output_type": "execute_result"
    }
   ],
   "source": [
    "std_ = statistics.stdev(df['SALE PRICE'])\n",
    "std_"
   ]
  },
  {
   "cell_type": "markdown",
   "metadata": {},
   "source": [
    "4. Skewness"
   ]
  },
  {
   "cell_type": "code",
   "execution_count": 40,
   "metadata": {},
   "outputs": [
    {
     "data": {
      "text/plain": [
       "2.3446374221747437"
      ]
     },
     "execution_count": 40,
     "metadata": {},
     "output_type": "execute_result"
    }
   ],
   "source": [
    "df['SALE PRICE'].skew()"
   ]
  },
  {
   "cell_type": "markdown",
   "metadata": {},
   "source": [
    "5. 25%, 50%, AND 75% PERCENTILES"
   ]
  },
  {
   "cell_type": "code",
   "execution_count": 41,
   "metadata": {},
   "outputs": [
    {
     "data": {
      "text/plain": [
       "[397117.0, 630000.0, 995000.0]"
      ]
     },
     "execution_count": 41,
     "metadata": {},
     "output_type": "execute_result"
    }
   ],
   "source": [
    "statistics.quantiles(df['SALE PRICE'], n = 4, method = 'inclusive')"
   ]
  },
  {
   "cell_type": "markdown",
   "metadata": {},
   "source": [
    "##### PROBABILITY DISTRIBUTION\n",
    "Real Distribution of Data (Populate Distrubtion)"
   ]
  },
  {
   "cell_type": "code",
   "execution_count": 44,
   "metadata": {},
   "outputs": [
    {
     "name": "stderr",
     "output_type": "stream",
     "text": [
      "C:\\Users\\roytu\\anaconda3\\lib\\site-packages\\seaborn\\distributions.py:2551: FutureWarning: `distplot` is a deprecated function and will be removed in a future version. Please adapt your code to use either `displot` (a figure-level function with similar flexibility) or `histplot` (an axes-level function for histograms).\n",
      "  warnings.warn(msg, FutureWarning)\n"
     ]
    },
    {
     "data": {
      "image/png": "[encoded data removed]",
      "text/plain": [
       "<Figure size 432x288 with 1 Axes>"
      ]
     },
     "metadata": {
      "needs_background": "light"
     },
     "output_type": "display_data"
    }
   ],
   "source": [
    "ax = sns.distplot(df['SALE PRICE'])"
   ]
  },
  {
   "cell_type": "markdown",
   "metadata": {},
   "source": [
    "From curve which plotted above, we can conclude that the majority of data lies on between $ 0 - 1 million sale price"
   ]
  },
  {
   "cell_type": "markdown",
   "metadata": {},
   "source": [
    "Sample Distribution"
   ]
  },
  {
   "cell_type": "code",
   "execution_count": 46,
   "metadata": {},
   "outputs": [
    {
     "data": {
      "text/plain": [
       "867034.2480194669"
      ]
     },
     "execution_count": 46,
     "metadata": {},
     "output_type": "execute_result"
    }
   ],
   "source": [
    "# Calculate Population Mean\n",
    "pop_mean_mass = df['SALE PRICE'].mean()\n",
    "pop_mean_mass"
   ]
  },
  {
   "cell_type": "code",
   "execution_count": 48,
   "metadata": {},
   "outputs": [
    {
     "data": {
      "text/plain": [
       "775505.037443877"
      ]
     },
     "execution_count": 48,
     "metadata": {},
     "output_type": "execute_result"
    }
   ],
   "source": [
    "# Calculate Population Standard Deviation\n",
    "pop_std_dev_mass = df['SALE PRICE'].std()\n",
    "pop_std_dev_mass"
   ]
  },
  {
   "cell_type": "code",
   "execution_count": 50,
   "metadata": {},
   "outputs": [],
   "source": [
    "# Generate random sample\n",
    "sample_means = []\n",
    "n = 50\n",
    "for sample in range(0, 500):\n",
    "    sample_values = np.random.choice(a=df['SALE PRICE'], size=n)    \n",
    "    sample_mean = np.mean(sample_values)\n",
    "    sample_means.append(sample_mean)"
   ]
  },
  {
   "cell_type": "code",
   "execution_count": 67,
   "metadata": {},
   "outputs": [
    {
     "data": {
      "text/plain": [
       "[881263.38,\n",
       " 760800.24,\n",
       " 821457.38,\n",
       " 1107876.84,\n",
       " 806363.44,\n",
       " 960784.48,\n",
       " 1076883.08,\n",
       " 914776.9,\n",
       " 838323.4,\n",
       " 1069746.74,\n",
       " 997803.38,\n",
       " 977845.36,\n",
       " 933322.8,\n",
       " 926482.66,\n",
       " 743054.24,\n",
       " 909683.12,\n",
       " 771557.28,\n",
       " 844708.42,\n",
       " 960519.76,\n",
       " 842461.0,\n",
       " 1083310.92,\n",
       " 703533.56,\n",
       " 1099717.88,\n",
       " 1005173.0,\n",
       " 852909.36,\n",
       " 848641.64,\n",
       " 831758.88,\n",
       " 718023.36,\n",
       " 677811.32,\n",
       " 676732.68,\n",
       " 1024714.8,\n",
       " 867593.42,\n",
       " 726298.8,\n",
       " 848726.36,\n",
       " 704587.28,\n",
       " 773938.92,\n",
       " 855196.84,\n",
       " 1094414.06,\n",
       " 736453.42,\n",
       " 737487.04,\n",
       " 997463.36,\n",
       " 678024.94,\n",
       " 654787.18,\n",
       " 734370.44,\n",
       " 899962.54,\n",
       " 941029.18,\n",
       " 1014223.5,\n",
       " 864457.04,\n",
       " 840193.02,\n",
       " 728222.44,\n",
       " 1052312.64,\n",
       " 842247.5,\n",
       " 855075.04,\n",
       " 943346.96,\n",
       " 1063430.0,\n",
       " 640840.56,\n",
       " 957600.9,\n",
       " 971846.22,\n",
       " 999828.44,\n",
       " 997431.12,\n",
       " 950409.26,\n",
       " 1091802.08,\n",
       " 809986.76,\n",
       " 970269.16,\n",
       " 932023.74,\n",
       " 875669.22,\n",
       " 857873.88,\n",
       " 1092573.92,\n",
       " 730073.64,\n",
       " 889499.14,\n",
       " 951160.28,\n",
       " 822387.0,\n",
       " 796387.78,\n",
       " 1013736.68,\n",
       " 895776.26,\n",
       " 867327.98,\n",
       " 1033666.96,\n",
       " 1064931.38,\n",
       " 959088.06,\n",
       " 955766.22,\n",
       " 711672.76,\n",
       " 686915.58,\n",
       " 739706.32,\n",
       " 892952.6,\n",
       " 776334.58,\n",
       " 903673.84,\n",
       " 830448.5,\n",
       " 821962.38,\n",
       " 904815.6,\n",
       " 902808.52,\n",
       " 890699.68,\n",
       " 790136.82,\n",
       " 814046.84,\n",
       " 755471.32,\n",
       " 963853.0,\n",
       " 679367.82,\n",
       " 991454.02,\n",
       " 844062.18,\n",
       " 910427.34,\n",
       " 897113.48,\n",
       " 773243.22,\n",
       " 834252.58,\n",
       " 888442.14,\n",
       " 851169.32,\n",
       " 1030866.88,\n",
       " 748320.2,\n",
       " 1014235.58,\n",
       " 776996.58,\n",
       " 985229.0,\n",
       " 748379.56,\n",
       " 1088857.44,\n",
       " 855797.02,\n",
       " 839954.56,\n",
       " 829817.64,\n",
       " 924510.88,\n",
       " 843243.34,\n",
       " 704654.4,\n",
       " 808528.6,\n",
       " 884183.7,\n",
       " 944470.52,\n",
       " 798408.76,\n",
       " 904965.62,\n",
       " 996302.74,\n",
       " 1008668.5,\n",
       " 903795.82,\n",
       " 855418.3,\n",
       " 790541.2,\n",
       " 995043.84,\n",
       " 1019271.02,\n",
       " 1013315.84,\n",
       " 844555.26,\n",
       " 1025256.7,\n",
       " 888047.16,\n",
       " 756276.86,\n",
       " 912085.52,\n",
       " 850725.68,\n",
       " 956165.1,\n",
       " 868277.06,\n",
       " 909705.94,\n",
       " 862799.48,\n",
       " 1075312.52,\n",
       " 1135030.84,\n",
       " 797584.78,\n",
       " 905767.34,\n",
       " 705065.56,\n",
       " 860109.6,\n",
       " 870053.96,\n",
       " 805038.88,\n",
       " 921936.46,\n",
       " 924075.84,\n",
       " 831195.5,\n",
       " 856342.48,\n",
       " 1002086.6,\n",
       " 1009715.16,\n",
       " 887816.62,\n",
       " 901378.9,\n",
       " 830065.02,\n",
       " 789374.5,\n",
       " 880417.1,\n",
       " 760414.6,\n",
       " 876582.16,\n",
       " 652794.14,\n",
       " 737868.84,\n",
       " 916095.14,\n",
       " 1119632.22,\n",
       " 646410.52,\n",
       " 763787.34,\n",
       " 791578.08,\n",
       " 1133915.3,\n",
       " 1066108.36,\n",
       " 836190.16,\n",
       " 826070.86,\n",
       " 766190.56,\n",
       " 783694.18,\n",
       " 1111673.52,\n",
       " 980714.18,\n",
       " 743082.58,\n",
       " 879040.1,\n",
       " 876981.08,\n",
       " 804493.1,\n",
       " 941338.72,\n",
       " 802427.86,\n",
       " 775804.68,\n",
       " 1013654.9,\n",
       " 793459.1,\n",
       " 730464.32,\n",
       " 757165.64,\n",
       " 1143825.02,\n",
       " 899198.04,\n",
       " 823516.5,\n",
       " 979828.7,\n",
       " 849744.42,\n",
       " 841505.6,\n",
       " 902552.44,\n",
       " 742357.52,\n",
       " 778513.52,\n",
       " 978461.82,\n",
       " 859369.3,\n",
       " 942130.42,\n",
       " 855363.04,\n",
       " 818951.18,\n",
       " 924230.6,\n",
       " 623714.26,\n",
       " 841529.54,\n",
       " 741350.98,\n",
       " 1082706.0,\n",
       " 988565.94,\n",
       " 728458.02,\n",
       " 1109674.14,\n",
       " 918477.68,\n",
       " 1113670.68,\n",
       " 792325.86,\n",
       " 919438.36,\n",
       " 918675.64,\n",
       " 878738.2,\n",
       " 924377.98,\n",
       " 1073873.56,\n",
       " 941424.16,\n",
       " 712543.96,\n",
       " 1037649.1,\n",
       " 757403.36,\n",
       " 868187.06,\n",
       " 679406.84,\n",
       " 920915.04,\n",
       " 1008817.12,\n",
       " 695121.56,\n",
       " 896131.38,\n",
       " 649200.44,\n",
       " 1085191.1,\n",
       " 910467.98,\n",
       " 780266.1,\n",
       " 892743.08,\n",
       " 887457.44,\n",
       " 908337.76,\n",
       " 911393.12,\n",
       " 844709.74,\n",
       " 712951.42,\n",
       " 879557.58,\n",
       " 871131.1,\n",
       " 849882.38,\n",
       " 801372.36,\n",
       " 821391.72,\n",
       " 994790.04,\n",
       " 868022.74,\n",
       " 999611.72,\n",
       " 782864.06,\n",
       " 920156.68,\n",
       " 1037854.0,\n",
       " 842974.2,\n",
       " 1148947.1,\n",
       " 853306.02,\n",
       " 736625.1,\n",
       " 708690.06,\n",
       " 874277.72,\n",
       " 896584.54,\n",
       " 782152.46,\n",
       " 1007071.36,\n",
       " 867444.96,\n",
       " 1037882.9,\n",
       " 980005.58,\n",
       " 746088.4,\n",
       " 954753.76,\n",
       " 854001.22,\n",
       " 1017781.64,\n",
       " 910795.38,\n",
       " 969771.36,\n",
       " 718048.96,\n",
       " 999398.48,\n",
       " 1081238.08,\n",
       " 869244.84,\n",
       " 861577.26,\n",
       " 718228.3,\n",
       " 784782.1,\n",
       " 724909.6,\n",
       " 673787.2,\n",
       " 761586.28,\n",
       " 999063.26,\n",
       " 937501.9,\n",
       " 1036305.06,\n",
       " 1001653.3,\n",
       " 783531.84,\n",
       " 1040300.96,\n",
       " 868307.66,\n",
       " 811395.2,\n",
       " 1011158.72,\n",
       " 751586.0,\n",
       " 835671.12,\n",
       " 1057448.46,\n",
       " 916686.9,\n",
       " 962445.72,\n",
       " 854314.94,\n",
       " 867362.0,\n",
       " 853544.84,\n",
       " 889224.36,\n",
       " 888499.86,\n",
       " 900945.52,\n",
       " 946234.14,\n",
       " 820642.02,\n",
       " 961459.82,\n",
       " 945921.08,\n",
       " 894623.08,\n",
       " 774073.8,\n",
       " 750827.54,\n",
       " 618819.48,\n",
       " 944196.34,\n",
       " 1002075.78,\n",
       " 1114727.44,\n",
       " 761510.84,\n",
       " 830985.98,\n",
       " 748311.54,\n",
       " 894322.58,\n",
       " 898936.5,\n",
       " 850618.02,\n",
       " 1002348.14,\n",
       " 904904.6,\n",
       " 916683.56,\n",
       " 719684.48,\n",
       " 904335.24,\n",
       " 991632.44,\n",
       " 947831.9,\n",
       " 771217.22,\n",
       " 1117276.02,\n",
       " 844139.06,\n",
       " 906103.92,\n",
       " 870647.76,\n",
       " 694887.76,\n",
       " 993611.52,\n",
       " 1005522.74,\n",
       " 880940.2,\n",
       " 891530.98,\n",
       " 864950.34,\n",
       " 959832.88,\n",
       " 776700.32,\n",
       " 765121.18,\n",
       " 875694.66,\n",
       " 972749.5,\n",
       " 806051.24,\n",
       " 760424.66,\n",
       " 840384.2,\n",
       " 991275.76,\n",
       " 719962.96,\n",
       " 824582.18,\n",
       " 934533.46,\n",
       " 931406.66,\n",
       " 926811.4,\n",
       " 925909.96,\n",
       " 936183.84,\n",
       " 812542.42,\n",
       " 858865.62,\n",
       " 804428.82,\n",
       " 827666.22,\n",
       " 953688.92,\n",
       " 902075.24,\n",
       " 968146.68,\n",
       " 1092123.04,\n",
       " 982928.36,\n",
       " 1037917.1,\n",
       " 938271.62,\n",
       " 858719.9,\n",
       " 868848.32,\n",
       " 939223.98,\n",
       " 778741.26,\n",
       " 851952.98,\n",
       " 783475.14,\n",
       " 826356.92,\n",
       " 869927.96,\n",
       " 877806.76,\n",
       " 995592.16,\n",
       " 971925.88,\n",
       " 1061373.5,\n",
       " 851970.38,\n",
       " 997981.4,\n",
       " 830712.76,\n",
       " 738967.22,\n",
       " 769923.26,\n",
       " 951172.84,\n",
       " 993701.32,\n",
       " 964904.02,\n",
       " 844869.92,\n",
       " 779536.48,\n",
       " 882916.7,\n",
       " 797177.26,\n",
       " 731451.36,\n",
       " 866147.44,\n",
       " 867940.3,\n",
       " 830807.08,\n",
       " 733111.7,\n",
       " 757563.06,\n",
       " 973896.94,\n",
       " 778601.36,\n",
       " 901764.3,\n",
       " 842625.86,\n",
       " 785599.02,\n",
       " 866498.38,\n",
       " 747851.42,\n",
       " 944650.82,\n",
       " 885432.62,\n",
       " 1118530.96,\n",
       " 844420.5,\n",
       " 963566.9,\n",
       " 1006200.86,\n",
       " 922709.58,\n",
       " 995755.3,\n",
       " 879407.98,\n",
       " 876118.8,\n",
       " 835409.96,\n",
       " 1055573.24,\n",
       " 1035123.74,\n",
       " 810284.56,\n",
       " 873640.7,\n",
       " 632516.28,\n",
       " 936434.2,\n",
       " 863888.38,\n",
       " 773673.56,\n",
       " 882795.3,\n",
       " 825141.76,\n",
       " 750912.02,\n",
       " 964599.3,\n",
       " 864151.56,\n",
       " 999655.6,\n",
       " 749435.64,\n",
       " 970700.38,\n",
       " 908559.58,\n",
       " 761380.94,\n",
       " 954152.64,\n",
       " 873237.58,\n",
       " 794188.5,\n",
       " 998972.38,\n",
       " 1004898.62,\n",
       " 888338.94,\n",
       " 919932.76,\n",
       " 910686.4,\n",
       " 965218.36,\n",
       " 862983.04,\n",
       " 935340.5,\n",
       " 901429.26,\n",
       " 869080.88,\n",
       " 841502.76,\n",
       " 1048842.64,\n",
       " 712137.78,\n",
       " 893943.76,\n",
       " 962807.56,\n",
       " 926689.66,\n",
       " 761506.74,\n",
       " 1001905.56,\n",
       " 804502.52,\n",
       " 1145052.76,\n",
       " 823768.6,\n",
       " 598622.32,\n",
       " 811062.22,\n",
       " 855660.4,\n",
       " 778476.74,\n",
       " 911230.1,\n",
       " 972048.62,\n",
       " 970739.44,\n",
       " 954299.14,\n",
       " 809452.1,\n",
       " 956747.52,\n",
       " 754175.6,\n",
       " 806173.18,\n",
       " 935208.24,\n",
       " 720446.24,\n",
       " 752707.66,\n",
       " 746667.04,\n",
       " 793224.98,\n",
       " 985692.08,\n",
       " 750933.6,\n",
       " 976488.46,\n",
       " 812017.86,\n",
       " 831942.04,\n",
       " 916847.68,\n",
       " 744828.74,\n",
       " 921623.16,\n",
       " 1041763.66,\n",
       " 924435.76,\n",
       " 856575.9,\n",
       " 838746.24,\n",
       " 923691.74,\n",
       " 798447.32,\n",
       " 825600.1,\n",
       " 691808.9,\n",
       " 864937.96,\n",
       " 985743.48,\n",
       " 746084.02,\n",
       " 924531.72,\n",
       " 756946.58,\n",
       " 695697.18,\n",
       " 770304.36,\n",
       " 955153.14,\n",
       " 720879.54,\n",
       " 839648.84,\n",
       " 802170.7,\n",
       " 835568.1,\n",
       " 840387.46,\n",
       " 870847.04,\n",
       " 846315.16,\n",
       " 692459.04,\n",
       " 924791.52,\n",
       " 894554.0,\n",
       " 672583.48]"
      ]
     },
     "execution_count": 67,
     "metadata": {},
     "output_type": "execute_result"
    }
   ],
   "source": [
    "sample_means"
   ]
  },
  {
   "cell_type": "code",
   "execution_count": 84,
   "metadata": {},
   "outputs": [
    {
     "data": {
      "text/plain": [
       "872184.34"
      ]
     },
     "execution_count": 84,
     "metadata": {},
     "output_type": "execute_result"
    }
   ],
   "source": [
    "# Calculate median of Sample Means\n",
    "\n",
    "median_of_sample_means = np.median(sample_means)\n",
    "median_of_sample_means"
   ]
  },
  {
   "cell_type": "code",
   "execution_count": 82,
   "metadata": {},
   "outputs": [
    {
     "data": {
      "text/plain": [
       "878327.5014000001"
      ]
     },
     "execution_count": 82,
     "metadata": {},
     "output_type": "execute_result"
    }
   ],
   "source": [
    "# Calculate mean of Sample Means\n",
    "\n",
    "mean_of_sample_means = np.mean(sample_means)\n",
    "mean_of_sample_means"
   ]
  },
  {
   "cell_type": "code",
   "execution_count": 85,
   "metadata": {},
   "outputs": [
    {
     "data": {
      "text/plain": [
       "109433.82821485541"
      ]
     },
     "execution_count": 85,
     "metadata": {},
     "output_type": "execute_result"
    }
   ],
   "source": [
    "# Calculate Standard Deviation of Sample Means\n",
    "\n",
    "std_dev_of_sample_means = np.std(sample_means)\n",
    "std_dev_of_sample_means"
   ]
  },
  {
   "cell_type": "code",
   "execution_count": 56,
   "metadata": {
    "scrolled": true
   },
   "outputs": [
    {
     "data": {
      "text/plain": [
       "[<matplotlib.lines.Line2D at 0x24481546c10>]"
      ]
     },
     "execution_count": 56,
     "metadata": {},
     "output_type": "execute_result"
    },
    {
     "data": {
      "image/png": "[encoded data removed]",
      "text/plain": [
       "<Figure size 432x288 with 1 Axes>"
      ]
     },
     "metadata": {
      "needs_background": "light"
     },
     "output_type": "display_data"
    }
   ],
   "source": [
    "kde = stats.gaussian_kde(sample_means)\n",
    "pos = np.linspace(np.min(sample_means), np.max(sample_means), 10000)\n",
    "plt.plot(pos, kde(pos), color='teal')"
   ]
  },
  {
   "cell_type": "markdown",
   "metadata": {},
   "source": [
    "Almost alike, both distribution of population and distribution of sample are telling us that the majority of distribution lies on between $ 0.8 and 1 million sale price."
   ]
  },
  {
   "cell_type": "markdown",
   "metadata": {},
   "source": [
    "##### CONFIDENCE INTERVALS"
   ]
  },
  {
   "cell_type": "code",
   "execution_count": 68,
   "metadata": {},
   "outputs": [
    {
     "data": {
      "text/plain": [
       "500"
      ]
     },
     "execution_count": 68,
     "metadata": {},
     "output_type": "execute_result"
    }
   ],
   "source": [
    "n = len(sample_means)\n",
    "n"
   ]
  },
  {
   "cell_type": "code",
   "execution_count": 59,
   "metadata": {},
   "outputs": [],
   "source": [
    "#z-score from the z table\n",
    "z = 1.96         "
   ]
  },
  {
   "cell_type": "code",
   "execution_count": 69,
   "metadata": {},
   "outputs": [
    {
     "data": {
      "text/plain": [
       "34681.639612360574"
      ]
     },
     "execution_count": 69,
     "metadata": {},
     "output_type": "execute_result"
    }
   ],
   "source": [
    "# Calculate Standard Error\n",
    "standard_err = pop_std_dev_mass / np.sqrt(n)\n",
    "standard_err"
   ]
  },
  {
   "cell_type": "code",
   "execution_count": 70,
   "metadata": {},
   "outputs": [
    {
     "data": {
      "text/plain": [
       "(810351.4877597734, 946303.5150402267)"
      ]
     },
     "execution_count": 70,
     "metadata": {},
     "output_type": "execute_result"
    }
   ],
   "source": [
    "lcb = mean_of_sample_means - z* standard_err  #lower limit of the CI\n",
    "ucb = mean_of_sample_means + z* standard_err  #upper limit of the CI\n",
    "lcb, ucb"
   ]
  },
  {
   "cell_type": "markdown",
   "metadata": {},
   "source": [
    "That means the true mean of Sale Price fall between 810351.487 and 946303.515"
   ]
  },
  {
   "cell_type": "markdown",
   "metadata": {},
   "source": [
    "##### HYPOTHESIS TESTING"
   ]
  },
  {
   "cell_type": "markdown",
   "metadata": {},
   "source": [
    "HYPOTHESIS : \n",
    "\n",
    "KATEGORI BANGUNAN ONE FAMILY DWELLINGS ADALAH TIPE BANGUNAN YANG MEMILIKI PROPORSI PENJUALAN LEBIH DARI 20% pada tahun 2010, APAKAH KATEGORI BANGUNAN ONE FAMILY DWELLINGS MENGALAMI KENAIKAN PENJUALAN YANG SIGNIFIKAN PADA TAHUN 2016 DAN 2017?\n",
    "\n"
   ]
  },
  {
   "cell_type": "markdown",
   "metadata": {},
   "source": [
    "Ho: p0 = 0.20 -- > null hypothesis\n",
    "\n",
    "Ha: p > 0.20   -- > alternative hypothesis"
   ]
  },
  {
   "cell_type": "markdown",
   "metadata": {},
   "source": [
    "\n",
    "\n",
    "Find prove to reject the null hypothesis:"
   ]
  },
  {
   "cell_type": "code",
   "execution_count": 73,
   "metadata": {},
   "outputs": [
    {
     "data": {
      "text/plain": [
       "BUILDING CLASS CATEGORY\n",
       "01 ONE FAMILY DWELLINGS                         12447\n",
       "02 TWO FAMILY DWELLINGS                          9587\n",
       "03 THREE FAMILY DWELLINGS                        2246\n",
       "04 TAX CLASS 1 CONDOS                            1230\n",
       "05 TAX CLASS 1 VACANT LAND                        384\n",
       "06 TAX CLASS 1 - OTHER                             36\n",
       "07 RENTALS - WALKUP APARTMENTS                   1359\n",
       "08 RENTALS - ELEVATOR APARTMENTS                   21\n",
       "09 COOPS - WALKUP APARTMENTS                     2393\n",
       "10 COOPS - ELEVATOR APARTMENTS                  10986\n",
       "11 SPECIAL CONDO BILLING LOTS                       1\n",
       "11A CONDO-RENTALS                                  10\n",
       "12 CONDOS - WALKUP APARTMENTS                     646\n",
       "13 CONDOS - ELEVATOR APARTMENTS                  9357\n",
       "14 RENTALS - 4-10 UNIT                            286\n",
       "15 CONDOS - 2-10 UNIT RESIDENTIAL                 977\n",
       "16 CONDOS - 2-10 UNIT WITH COMMERCIAL UNIT         27\n",
       "17 CONDO COOPS                                   1085\n",
       "21 OFFICE BUILDINGS                               130\n",
       "22 STORE BUILDINGS                                359\n",
       "23 LOFT BUILDINGS                                   6\n",
       "26 OTHER HOTELS                                    12\n",
       "27 FACTORIES                                       69\n",
       "28 COMMERCIAL CONDOS                               10\n",
       "29 COMMERCIAL GARAGES                             220\n",
       "30 WAREHOUSES                                     122\n",
       "31 COMMERCIAL VACANT LAND                         122\n",
       "32 HOSPITAL AND HEALTH FACILITIES                  13\n",
       "33 EDUCATIONAL FACILITIES                          13\n",
       "35 INDOOR PUBLIC AND CULTURAL FACILITIES           13\n",
       "36 OUTDOOR RECREATIONAL FACILITIES                  3\n",
       "37 RELIGIOUS FACILITIES                            49\n",
       "38 ASYLUMS AND HOMES                                7\n",
       "39 TRANSPORTATION FACILITIES                        1\n",
       "41 TAX CLASS 4 - OTHER                             45\n",
       "42 CONDO CULTURAL/MEDICAL/EDUCATIONAL/ETC           2\n",
       "43 CONDO OFFICE BUILDINGS                         207\n",
       "44 CONDO PARKING                                   77\n",
       "45 CONDO HOTELS                                    45\n",
       "46 CONDO STORE BUILDINGS                           45\n",
       "47 CONDO NON-BUSINESS STORAGE                       5\n",
       "48 CONDO TERRACES/GARDENS/CABANAS                   4\n",
       "Name: SALE PRICE, dtype: int64"
      ]
     },
     "execution_count": 73,
     "metadata": {},
     "output_type": "execute_result"
    }
   ],
   "source": [
    "data = df.groupby('BUILDING CLASS CATEGORY')['SALE PRICE'].count()\n",
    "data"
   ]
  },
  {
   "cell_type": "code",
   "execution_count": 75,
   "metadata": {},
   "outputs": [
    {
     "data": {
      "text/plain": [
       "0.23069323233986497"
      ]
     },
     "execution_count": 75,
     "metadata": {},
     "output_type": "execute_result"
    }
   ],
   "source": [
    "# Length of ONE FAMILY DWELLINGS IS 12609\n",
    "n = len(df)\n",
    "p_target = 12609/n\n",
    "p_target"
   ]
  },
  {
   "cell_type": "markdown",
   "metadata": {},
   "source": [
    "ONE FAMILY DWELLINGS has more than 23% proportion of number of sales, which more than the null hypothesis (20%). \n",
    "\n",
    "But the question is how significant ONE FAMILY DWELLINGS category sales in 2016 and 2017 more than 2010?"
   ]
  },
  {
   "cell_type": "code",
   "execution_count": 77,
   "metadata": {},
   "outputs": [
    {
     "data": {
      "text/plain": [
       "0.00171094912516551"
      ]
     },
     "execution_count": 77,
     "metadata": {},
     "output_type": "execute_result"
    }
   ],
   "source": [
    "# Calculate standard error\n",
    "se = np.sqrt(0.20 * (1-0.20) / len(df))\n",
    "se"
   ]
  },
  {
   "cell_type": "code",
   "execution_count": 78,
   "metadata": {},
   "outputs": [
    {
     "data": {
      "text/plain": [
       "17.939301577360357"
      ]
     },
     "execution_count": 78,
     "metadata": {},
     "output_type": "execute_result"
    }
   ],
   "source": [
    "#Best estimate\n",
    "be = p_target\n",
    "\n",
    "#hypothesized estimate\n",
    "he = 0.20\n",
    "test_stat = (be - he)/se\n",
    "test_stat"
   ]
  },
  {
   "cell_type": "code",
   "execution_count": 80,
   "metadata": {},
   "outputs": [
    {
     "data": {
      "text/plain": [
       "5.818178917804616e-72"
      ]
     },
     "execution_count": 80,
     "metadata": {},
     "output_type": "execute_result"
    }
   ],
   "source": [
    "pvalue = 2*dist.norm.cdf(-np.abs(test_stat))\n",
    "pvalue"
   ]
  },
  {
   "cell_type": "markdown",
   "metadata": {},
   "source": [
    "Dari significance level alpha 5% atau 0.05. Tingkat signifikansi lebih dari 5%.\n",
    "\n",
    "Di sini p-value lebih tinggi dari significance level yang ditentukan yaitu 0.05. Jadi, kita fail to reject the null hypothesis. Artinya, tidak terdapat perbedaan yang signifikan dalam proporsi penjualan kategori bangunan ONE FAMILY DWELLINGS di 2016 dan 2017 daripada penjualan di 2010."
   ]
  },
  {
   "cell_type": "code",
   "execution_count": null,
   "metadata": {},
   "outputs": [],
   "source": []
  }
 ],
 "metadata": {
  "kernelspec": {
   "display_name": "Python 3",
   "language": "python",
   "name": "python3"
  },
  "language_info": {
   "codemirror_mode": {
    "name": "ipython",
    "version": 3
   },
   "file_extension": ".py",
   "mimetype": "text/x-python",
   "name": "python",
   "nbconvert_exporter": "python",
   "pygments_lexer": "ipython3",
   "version": "3.8.5"
  }
 },
 "nbformat": 4,
 "nbformat_minor": 4
}
